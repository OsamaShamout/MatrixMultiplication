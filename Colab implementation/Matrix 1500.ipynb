{
  "nbformat": 4,
  "nbformat_minor": 0,
  "metadata": {
    "colab": {
      "provenance": [],
      "gpuType": "T4"
    },
    "kernelspec": {
      "name": "python3",
      "display_name": "Python 3"
    },
    "language_info": {
      "name": "python"
    },
    "accelerator": "GPU",
    "gpuClass": "standard"
  },
  "cells": [
    {
      "cell_type": "code",
      "execution_count": 20,
      "metadata": {
        "colab": {
          "base_uri": "https://localhost:8080/"
        },
        "id": "zAIOuZjhRLmq",
        "outputId": "40956429-e611-4ab2-b261-14d82b8f29b1"
      },
      "outputs": [
        {
          "output_type": "stream",
          "name": "stdout",
          "text": [
            "nvcc: NVIDIA (R) Cuda compiler driver\n",
            "Copyright (c) 2005-2022 NVIDIA Corporation\n",
            "Built on Wed_Sep_21_10:33:58_PDT_2022\n",
            "Cuda compilation tools, release 11.8, V11.8.89\n",
            "Build cuda_11.8.r11.8/compiler.31833905_0\n"
          ]
        }
      ],
      "source": [
        "!nvcc --version"
      ]
    },
    {
      "cell_type": "code",
      "source": [
        "!nvidia-smi"
      ],
      "metadata": {
        "id": "S5Ps-mJalW6b",
        "outputId": "fde12863-fd60-4538-ca0a-de6d51393d61",
        "colab": {
          "base_uri": "https://localhost:8080/"
        }
      },
      "execution_count": 21,
      "outputs": [
        {
          "output_type": "stream",
          "name": "stdout",
          "text": [
            "Fri May 19 20:22:30 2023       \n",
            "+-----------------------------------------------------------------------------+\n",
            "| NVIDIA-SMI 525.85.12    Driver Version: 525.85.12    CUDA Version: 12.0     |\n",
            "|-------------------------------+----------------------+----------------------+\n",
            "| GPU  Name        Persistence-M| Bus-Id        Disp.A | Volatile Uncorr. ECC |\n",
            "| Fan  Temp  Perf  Pwr:Usage/Cap|         Memory-Usage | GPU-Util  Compute M. |\n",
            "|                               |                      |               MIG M. |\n",
            "|===============================+======================+======================|\n",
            "|   0  Tesla T4            Off  | 00000000:00:04.0 Off |                    0 |\n",
            "| N/A   36C    P8     9W /  70W |      0MiB / 15360MiB |      0%      Default |\n",
            "|                               |                      |                  N/A |\n",
            "+-------------------------------+----------------------+----------------------+\n",
            "                                                                               \n",
            "+-----------------------------------------------------------------------------+\n",
            "| Processes:                                                                  |\n",
            "|  GPU   GI   CI        PID   Type   Process name                  GPU Memory |\n",
            "|        ID   ID                                                   Usage      |\n",
            "|=============================================================================|\n",
            "|  No running processes found                                                 |\n",
            "+-----------------------------------------------------------------------------+\n"
          ]
        }
      ]
    },
    {
      "cell_type": "code",
      "source": [
        "!pip install git+https://github.com/andreinechaev/nvcc4jupyter.git"
      ],
      "metadata": {
        "colab": {
          "base_uri": "https://localhost:8080/"
        },
        "id": "4nCRxKAHRns9",
        "outputId": "883ecdeb-eb21-4ca9-d682-bf18ba00750a"
      },
      "execution_count": 22,
      "outputs": [
        {
          "output_type": "stream",
          "name": "stdout",
          "text": [
            "Looking in indexes: https://pypi.org/simple, https://us-python.pkg.dev/colab-wheels/public/simple/\n",
            "Collecting git+https://github.com/andreinechaev/nvcc4jupyter.git\n",
            "  Cloning https://github.com/andreinechaev/nvcc4jupyter.git to /tmp/pip-req-build-0ft2ovca\n",
            "  Running command git clone --filter=blob:none --quiet https://github.com/andreinechaev/nvcc4jupyter.git /tmp/pip-req-build-0ft2ovca\n",
            "  Resolved https://github.com/andreinechaev/nvcc4jupyter.git to commit aac710a35f52bb78ab34d2e52517237941399eff\n",
            "  Preparing metadata (setup.py) ... \u001b[?25l\u001b[?25hdone\n"
          ]
        }
      ]
    },
    {
      "cell_type": "code",
      "source": [
        "%load_ext nvcc_plugin"
      ],
      "metadata": {
        "colab": {
          "base_uri": "https://localhost:8080/"
        },
        "id": "gA-DxYpSR7Lz",
        "outputId": "6f6d6fc8-4a1f-48c3-f321-d42b53bfa29f"
      },
      "execution_count": 23,
      "outputs": [
        {
          "output_type": "stream",
          "name": "stdout",
          "text": [
            "The nvcc_plugin extension is already loaded. To reload it, use:\n",
            "  %reload_ext nvcc_plugin\n"
          ]
        }
      ]
    },
    {
      "cell_type": "code",
      "source": [
        "!gcc -o MatrixMultSeq.c -lm\n",
        "!./MatrixMult"
      ],
      "metadata": {
        "colab": {
          "base_uri": "https://localhost:8080/"
        },
        "id": "egNk1OQ9Vjnv",
        "outputId": "4e557992-508e-4001-a168-52ef04d6f287"
      },
      "execution_count": 24,
      "outputs": [
        {
          "output_type": "stream",
          "name": "stdout",
          "text": [
            "/usr/bin/ld: /usr/lib/gcc/x86_64-linux-gnu/9/../../../x86_64-linux-gnu/Scrt1.o: in function `_start':\n",
            "(.text+0x24): undefined reference to `main'\n",
            "collect2: error: ld returned 1 exit status\n",
            "/bin/bash: ./MatrixMult: No such file or directory\n"
          ]
        }
      ]
    },
    {
      "cell_type": "markdown",
      "source": [
        "# Matrix Size 1500x1500"
      ],
      "metadata": {
        "id": "Ff2QTY4ApS-u"
      }
    },
    {
      "cell_type": "code",
      "source": [
        "%%writefile matrixseq.c\n",
        "\n",
        "#include <stdio.h>\n",
        "#include <stdlib.h>\n",
        "#include <time.h>\n",
        "\n",
        "#define SIZE 1500\n",
        "\n",
        "void MatrixMultSeq(float M[SIZE][SIZE], float N[SIZE][SIZE], float P[SIZE][SIZE])\n",
        "{\n",
        "    for (int i = 0; i < SIZE; i++) {\n",
        "        for (int j = 0; j < SIZE; j++) {\n",
        "            P[i][j] = 0.0;\n",
        "            for (int k = 0; k < SIZE; k++) {\n",
        "                P[i][j] += M[i][k] * N[k][j];\n",
        "            }\n",
        "        }\n",
        "    }\n",
        "}\n",
        "\n",
        "int main() {\n",
        "    float M[SIZE][SIZE];\n",
        "    float N[SIZE][SIZE];\n",
        "    float P[SIZE][SIZE];\n",
        "\n",
        "    srand(time(NULL));\n",
        "    for (int i = 0; i < SIZE; i++) {\n",
        "        for (int j = 0; j < SIZE; j++) {\n",
        "            M[i][j] = rand() / (float)RAND_MAX;\n",
        "            N[i][j] = rand() / (float)RAND_MAX;\n",
        "        }\n",
        "    }\n",
        "\n",
        "    clock_t start, end;\n",
        "    double cpu_time;\n",
        "\n",
        "    start = clock();\n",
        "\n",
        "    MatrixMultSeq(M, N, P);\n",
        "\n",
        "    end = clock();\n",
        "\n",
        "    cpu_time = ((double) (end - start)) / CLOCKS_PER_SEC;\n",
        "\n",
        "    printf(\"Execution time: %f s\\n\", cpu_time);\n",
        "\n",
        "    return 0;\n",
        "}\n"
      ],
      "metadata": {
        "colab": {
          "base_uri": "https://localhost:8080/"
        },
        "id": "nrVEluXEkQlI",
        "outputId": "fd01421d-6f1d-4cd7-b700-7fc7372ef084"
      },
      "execution_count": 25,
      "outputs": [
        {
          "output_type": "stream",
          "name": "stdout",
          "text": [
            "Overwriting matrixseq.c\n"
          ]
        }
      ]
    },
    {
      "cell_type": "code",
      "source": [
        "!gcc matrixseq.c -o matrixseq\n",
        "!./matrixseq"
      ],
      "metadata": {
        "id": "BHJWr9ulleJM"
      },
      "execution_count": 26,
      "outputs": []
    },
    {
      "cell_type": "markdown",
      "source": [
        "## CUDA No Tiling Blocksize 16"
      ],
      "metadata": {
        "id": "gcIT0zo-ms72"
      }
    },
    {
      "cell_type": "code",
      "source": [
        "%%cu\n",
        "\n",
        "#include <stdio.h>\n",
        "#include <stdlib.h>\n",
        "#include <time.h>\n",
        "#define BLOCK_SIZE 16\n",
        "\n",
        "__global__ void MatrixMult(float* M, float* N, float* P, int height, int width, int depth)\n",
        "{\n",
        "    int row = blockIdx.y * blockDim.y + threadIdx.y;\n",
        "    int col = blockIdx.x * blockDim.x + threadIdx.x;\n",
        "\n",
        "    if (row < height && col < depth) {\n",
        "        float pvalue = 0;\n",
        "        for (int k = 0; k < width; k++) {\n",
        "            pvalue += M[row * width + k] * N[k * depth + col];\n",
        "        }\n",
        "        P[row * depth + col] = pvalue;\n",
        "    }\n",
        "}\n",
        "\n",
        "int main() {\n",
        "    int M = 1500;\n",
        "    int N = 1500;\n",
        "    int K = 1500;\n",
        "\n",
        "    //Allocate mem for host\n",
        "    float *h_M = (float*)malloc(sizeof(float) * M * N);\n",
        "    float *h_N = (float*)malloc(sizeof(float) * M * K);\n",
        "    float *h_P = (float*)malloc(sizeof(float) * N * K);\n",
        "\n",
        "    srand(time(NULL));\n",
        "    for (int i = 0; i < N * M; i++) {\n",
        "        h_M[i] = rand() / (float)RAND_MAX;\n",
        "    }\n",
        "    for (int i = 0; i < M * K; i++) {\n",
        "        h_N[i] = rand() / (float)RAND_MAX;\n",
        "    }\n",
        "\n",
        "    //Allocate mem for device\n",
        "    float *d_M, *d_N, *d_P;\n",
        "    cudaMalloc((void**)&d_N, sizeof(float) * M * K);\n",
        "    cudaMalloc((void**)&d_M, sizeof(float)* M * N);\n",
        "    cudaMalloc((void**)&d_P, sizeof(float) * N * K);\n",
        "    cudaMemcpy(d_M, h_M, sizeof(float) * M * N, cudaMemcpyHostToDevice);\n",
        "    cudaMemcpy(d_N, h_N, sizeof(float) * M * K, cudaMemcpyHostToDevice);\n",
        "        \n",
        "    //Set up config for parallelization\n",
        "    dim3 dimGrid(ceil(K / (float)BLOCK_SIZE), ceil(N / (float)BLOCK_SIZE), 1);\n",
        "    dim3 dimBlock(BLOCK_SIZE, BLOCK_SIZE, 1);\n",
        "\n",
        "    float elapsed_time;\n",
        "    cudaEvent_t start, stop;\n",
        "    cudaEventCreate(&start);\n",
        "    cudaEventCreate(&stop);\n",
        "    cudaEventRecord(start);\n",
        "\n",
        "    //Invoke Kernel\n",
        "    MatrixMult<<<dimGrid, dimBlock>>>(d_M, d_N, d_P, N, M, K);\n",
        "\n",
        "    cudaEventRecord(stop);\n",
        "    cudaEventSynchronize(stop);\n",
        "    cudaEventElapsedTime(&elapsed_time, start, stop);\n",
        "    cudaEventDestroy(start);\n",
        "    cudaEventDestroy(stop);\n",
        "\n",
        "    cudaMemcpy(h_P, d_P, sizeof(float)*N*K, cudaMemcpyDeviceToHost);\n",
        "\n",
        "    printf(\"Kernel execution time: %f ms\\n\", elapsed_time);\n",
        "\n",
        "    //Host mem free\n",
        "    free(h_M);\n",
        "    free(h_N);\n",
        "    free(h_P);\n",
        "\n",
        "    //Device mem free\n",
        "    cudaFree(d_M);\n",
        "    cudaFree(d_N);\n",
        "    cudaFree(d_P);\n",
        "\n",
        "    return 0;\n",
        "}\n"
      ],
      "metadata": {
        "colab": {
          "base_uri": "https://localhost:8080/"
        },
        "id": "DFPp2bmIUSlk",
        "outputId": "2ee89575-4d11-4a2b-b054-5fefaedb3062"
      },
      "execution_count": 27,
      "outputs": [
        {
          "output_type": "stream",
          "name": "stdout",
          "text": [
            "Kernel execution time: 27.146048 ms\n",
            "\n"
          ]
        }
      ]
    },
    {
      "cell_type": "markdown",
      "source": [
        "## Cuda C No tiling Blocksize 32"
      ],
      "metadata": {
        "id": "eehmxuY2m3Mm"
      }
    },
    {
      "cell_type": "code",
      "source": [
        "%%cu\n",
        "\n",
        "#include <stdio.h>\n",
        "#include <stdlib.h>\n",
        "#include <time.h>\n",
        "#define BLOCK_SIZE 32\n",
        "\n",
        "__global__ void MatrixMult(float* M, float* N, float* P, int height, int width, int depth)\n",
        "{\n",
        "    int row = blockIdx.y * blockDim.y + threadIdx.y;\n",
        "    int col = blockIdx.x * blockDim.x + threadIdx.x;\n",
        "\n",
        "    if (row < height && col < depth) {\n",
        "        float pvalue = 0;\n",
        "        for (int k = 0; k < width; k++) {\n",
        "            pvalue += M[row * width + k] * N[k * depth + col];\n",
        "        }\n",
        "        P[row * depth + col] = pvalue;\n",
        "    }\n",
        "}\n",
        "\n",
        "int main() {\n",
        "    int M = 1500;\n",
        "    int N = 1500;\n",
        "    int K = 1500;\n",
        "\n",
        "    //Allocate mem for host\n",
        "    float *h_M = (float*)malloc(sizeof(float) * M * N);\n",
        "    float *h_N = (float*)malloc(sizeof(float) * M * K);\n",
        "    float *h_P = (float*)malloc(sizeof(float) * N * K);\n",
        "\n",
        "    srand(time(NULL));\n",
        "    for (int i = 0; i < N * M; i++) {\n",
        "        h_M[i] = rand() / (float)RAND_MAX;\n",
        "    }\n",
        "    for (int i = 0; i < M * K; i++) {\n",
        "        h_N[i] = rand() / (float)RAND_MAX;\n",
        "    }\n",
        "\n",
        "    //Allocate mem for device\n",
        "    float *d_M, *d_N, *d_P;\n",
        "    cudaMalloc((void**)&d_N, sizeof(float) * M * K);\n",
        "    cudaMalloc((void**)&d_M, sizeof(float)* M * N);\n",
        "    cudaMalloc((void**)&d_P, sizeof(float) * N * K);\n",
        "    cudaMemcpy(d_M, h_M, sizeof(float) * M * N, cudaMemcpyHostToDevice);\n",
        "    cudaMemcpy(d_N, h_N, sizeof(float) * M * K, cudaMemcpyHostToDevice);\n",
        "        \n",
        "    //Set up config for parallelization\n",
        "    dim3 dimGrid(ceil(K / (float)BLOCK_SIZE), ceil(N / (float)BLOCK_SIZE), 1);\n",
        "    dim3 dimBlock(BLOCK_SIZE, BLOCK_SIZE, 1);\n",
        "\n",
        "    float elapsed_time;\n",
        "    cudaEvent_t start, stop;\n",
        "    cudaEventCreate(&start);\n",
        "    cudaEventCreate(&stop);\n",
        "    cudaEventRecord(start);\n",
        "\n",
        "    //Invoke Kernel\n",
        "    MatrixMult<<<dimGrid, dimBlock>>>(d_M, d_N, d_P, N, M, K);\n",
        "\n",
        "    cudaEventRecord(stop);\n",
        "    cudaEventSynchronize(stop);\n",
        "    cudaEventElapsedTime(&elapsed_time, start, stop);\n",
        "    cudaEventDestroy(start);\n",
        "    cudaEventDestroy(stop);\n",
        "\n",
        "    cudaMemcpy(h_P, d_P, sizeof(float)*N*K, cudaMemcpyDeviceToHost);\n",
        "\n",
        "    printf(\"Kernel execution time: %f ms\\n\", elapsed_time);\n",
        "\n",
        "    //Host mem free\n",
        "    free(h_M);\n",
        "    free(h_N);\n",
        "    free(h_P);\n",
        "\n",
        "    //Device mem free\n",
        "    cudaFree(d_M);\n",
        "    cudaFree(d_N);\n",
        "    cudaFree(d_P);\n",
        "\n",
        "    return 0;\n",
        "}\n"
      ],
      "metadata": {
        "colab": {
          "base_uri": "https://localhost:8080/"
        },
        "id": "-VflPBymm0Ln",
        "outputId": "7d6c39e0-5705-4d05-a479-a9cc9b21266c"
      },
      "execution_count": 28,
      "outputs": [
        {
          "output_type": "stream",
          "name": "stdout",
          "text": [
            "Kernel execution time: 21.491232 ms\n",
            "\n"
          ]
        }
      ]
    },
    {
      "cell_type": "markdown",
      "source": [
        "## Cuda C No Tiling Block size 64"
      ],
      "metadata": {
        "id": "nwnFH6RHm_Z0"
      }
    },
    {
      "cell_type": "code",
      "source": [
        "%%cu\n",
        "\n",
        "#include <stdio.h>\n",
        "#include <stdlib.h>\n",
        "#include <time.h>\n",
        "#define BLOCK_SIZE 64\n",
        "\n",
        "__global__ void MatrixMult(float* M, float* N, float* P, int height, int width, int depth)\n",
        "{\n",
        "    int row = blockIdx.y * blockDim.y + threadIdx.y;\n",
        "    int col = blockIdx.x * blockDim.x + threadIdx.x;\n",
        "\n",
        "    if (row < height && col < depth) {\n",
        "        float pvalue = 0;\n",
        "        for (int k = 0; k < width; k++) {\n",
        "            pvalue += M[row * width + k] * N[k * depth + col];\n",
        "        }\n",
        "        P[row * depth + col] = pvalue;\n",
        "    }\n",
        "}\n",
        "\n",
        "int main() {\n",
        "    int M = 1500;\n",
        "    int N = 1500;\n",
        "    int K = 1500;\n",
        "\n",
        "    //Allocate mem for host\n",
        "    float *h_M = (float*)malloc(sizeof(float) * M * N);\n",
        "    float *h_N = (float*)malloc(sizeof(float) * M * K);\n",
        "    float *h_P = (float*)malloc(sizeof(float) * N * K);\n",
        "\n",
        "    srand(time(NULL));\n",
        "    for (int i = 0; i < N * M; i++) {\n",
        "        h_M[i] = rand() / (float)RAND_MAX;\n",
        "    }\n",
        "    for (int i = 0; i < M * K; i++) {\n",
        "        h_N[i] = rand() / (float)RAND_MAX;\n",
        "    }\n",
        "\n",
        "    //Allocate mem for device\n",
        "    float *d_M, *d_N, *d_P;\n",
        "    cudaMalloc((void**)&d_N, sizeof(float) * M * K);\n",
        "    cudaMalloc((void**)&d_M, sizeof(float)* M * N);\n",
        "    cudaMalloc((void**)&d_P, sizeof(float) * N * K);\n",
        "    cudaMemcpy(d_M, h_M, sizeof(float) * M * N, cudaMemcpyHostToDevice);\n",
        "    cudaMemcpy(d_N, h_N, sizeof(float) * M * K, cudaMemcpyHostToDevice);\n",
        "        \n",
        "    //Set up config for parallelization\n",
        "    dim3 dimGrid(ceil(K / (float)BLOCK_SIZE), ceil(N / (float)BLOCK_SIZE), 1);\n",
        "    dim3 dimBlock(BLOCK_SIZE, BLOCK_SIZE, 1);\n",
        "\n",
        "    float elapsed_time;\n",
        "    cudaEvent_t start, stop;\n",
        "    cudaEventCreate(&start);\n",
        "    cudaEventCreate(&stop);\n",
        "    cudaEventRecord(start);\n",
        "\n",
        "    //Invoke Kernel\n",
        "    MatrixMult<<<dimGrid, dimBlock>>>(d_M, d_N, d_P, N, M, K);\n",
        "\n",
        "    cudaEventRecord(stop);\n",
        "    cudaEventSynchronize(stop);\n",
        "    cudaEventElapsedTime(&elapsed_time, start, stop);\n",
        "    cudaEventDestroy(start);\n",
        "    cudaEventDestroy(stop);\n",
        "\n",
        "    cudaMemcpy(h_P, d_P, sizeof(float)*N*K, cudaMemcpyDeviceToHost);\n",
        "\n",
        "    printf(\"Kernel execution time: %f ms\\n\", elapsed_time);\n",
        "\n",
        "    //Host mem free\n",
        "    free(h_M);\n",
        "    free(h_N);\n",
        "    free(h_P);\n",
        "\n",
        "    //Device mem free\n",
        "    cudaFree(d_M);\n",
        "    cudaFree(d_N);\n",
        "    cudaFree(d_P);\n",
        "\n",
        "    return 0;\n",
        "}\n"
      ],
      "metadata": {
        "colab": {
          "base_uri": "https://localhost:8080/"
        },
        "id": "VyNJjAubm_Lx",
        "outputId": "cd71a8d9-5fe9-43b2-8557-f6dcf67775d7"
      },
      "execution_count": 29,
      "outputs": [
        {
          "output_type": "stream",
          "name": "stdout",
          "text": [
            "Kernel execution time: 0.003040 ms\n",
            "\n"
          ]
        }
      ]
    },
    {
      "cell_type": "markdown",
      "source": [
        "## Cuda C No Tiling Block Size 128"
      ],
      "metadata": {
        "id": "1cGw7ooGnLxQ"
      }
    },
    {
      "cell_type": "code",
      "source": [
        "%%cu\n",
        "\n",
        "#include <stdio.h>\n",
        "#include <stdlib.h>\n",
        "#include <time.h>\n",
        "#define BLOCK_SIZE 128\n",
        "\n",
        "__global__ void MatrixMult(float* M, float* N, float* P, int height, int width, int depth)\n",
        "{\n",
        "    int row = blockIdx.y * blockDim.y + threadIdx.y;\n",
        "    int col = blockIdx.x * blockDim.x + threadIdx.x;\n",
        "\n",
        "    if (row < height && col < depth) {\n",
        "        float pvalue = 0;\n",
        "        for (int k = 0; k < width; k++) {\n",
        "            pvalue += M[row * width + k] * N[k * depth + col];\n",
        "        }\n",
        "        P[row * depth + col] = pvalue;\n",
        "    }\n",
        "}\n",
        "\n",
        "int main() {\n",
        "    int M = 1500;\n",
        "    int N = 1500;\n",
        "    int K = 1500;\n",
        "\n",
        "    //Allocate mem for host\n",
        "    float *h_M = (float*)malloc(sizeof(float) * M * N);\n",
        "    float *h_N = (float*)malloc(sizeof(float) * M * K);\n",
        "    float *h_P = (float*)malloc(sizeof(float) * N * K);\n",
        "\n",
        "    srand(time(NULL));\n",
        "    for (int i = 0; i < N * M; i++) {\n",
        "        h_M[i] = rand() / (float)RAND_MAX;\n",
        "    }\n",
        "    for (int i = 0; i < M * K; i++) {\n",
        "        h_N[i] = rand() / (float)RAND_MAX;\n",
        "    }\n",
        "\n",
        "    //Allocate mem for device\n",
        "    float *d_M, *d_N, *d_P;\n",
        "    cudaMalloc((void**)&d_N, sizeof(float) * M * K);\n",
        "    cudaMalloc((void**)&d_M, sizeof(float)* M * N);\n",
        "    cudaMalloc((void**)&d_P, sizeof(float) * N * K);\n",
        "    cudaMemcpy(d_M, h_M, sizeof(float) * M * N, cudaMemcpyHostToDevice);\n",
        "    cudaMemcpy(d_N, h_N, sizeof(float) * M * K, cudaMemcpyHostToDevice);\n",
        "        \n",
        "    //Set up config for parallelization\n",
        "    dim3 dimGrid(ceil(K / (float)BLOCK_SIZE), ceil(N / (float)BLOCK_SIZE), 1);\n",
        "    dim3 dimBlock(BLOCK_SIZE, BLOCK_SIZE, 1);\n",
        "\n",
        "    float elapsed_time;\n",
        "    cudaEvent_t start, stop;\n",
        "    cudaEventCreate(&start);\n",
        "    cudaEventCreate(&stop);\n",
        "    cudaEventRecord(start);\n",
        "\n",
        "    //Invoke Kernel\n",
        "    MatrixMult<<<dimGrid, dimBlock>>>(d_M, d_N, d_P, N, M, K);\n",
        "\n",
        "    cudaEventRecord(stop);\n",
        "    cudaEventSynchronize(stop);\n",
        "    cudaEventElapsedTime(&elapsed_time, start, stop);\n",
        "    cudaEventDestroy(start);\n",
        "    cudaEventDestroy(stop);\n",
        "\n",
        "    cudaMemcpy(h_P, d_P, sizeof(float)*N*K, cudaMemcpyDeviceToHost);\n",
        "\n",
        "    printf(\"Kernel execution time: %f ms\\n\", elapsed_time);\n",
        "\n",
        "    //Host mem free\n",
        "    free(h_M);\n",
        "    free(h_N);\n",
        "    free(h_P);\n",
        "\n",
        "    //Device mem free\n",
        "    cudaFree(d_M);\n",
        "    cudaFree(d_N);\n",
        "    cudaFree(d_P);\n",
        "\n",
        "    return 0;\n",
        "}\n"
      ],
      "metadata": {
        "colab": {
          "base_uri": "https://localhost:8080/"
        },
        "id": "sKnt-wKYnLnU",
        "outputId": "f4c386e0-26bb-4e1e-c4be-7e90316d987f"
      },
      "execution_count": 30,
      "outputs": [
        {
          "output_type": "stream",
          "name": "stdout",
          "text": [
            "Kernel execution time: 0.002976 ms\n",
            "\n"
          ]
        }
      ]
    },
    {
      "cell_type": "markdown",
      "source": [
        "## Cuda C Tiling Tile Size 16"
      ],
      "metadata": {
        "id": "YN4V6EWQnfem"
      }
    },
    {
      "cell_type": "code",
      "source": [
        "%%cu\n",
        "\n",
        "#include <stdio.h>\n",
        "#include <stdlib.h>\n",
        "#include <time.h>\n",
        "#define TITLE_SIZE 16\n",
        "\n",
        "// Kernel function with tiling\n",
        "__global__ void MatrixMultTiled(float* M, float* N, float* P, int width, int height, int depth)\n",
        "{\n",
        "    __shared__ float Ms[TITLE_SIZE][TITLE_SIZE];\n",
        "    __shared__ float Ns[TITLE_SIZE][TITLE_SIZE];\n",
        "\n",
        "    int bx = blockIdx.x; \n",
        "    int by = blockIdx.y;\n",
        "    int tx = threadIdx.x; \n",
        "    int ty = threadIdx.y;\n",
        "\n",
        "    // Identify the row and column of the P element to work on\n",
        "    int Row = by * TITLE_SIZE + ty;\n",
        "    int Col = bx * TITLE_SIZE + tx;\n",
        "\n",
        "    float Pvalue = 0;\n",
        "\n",
        "    // Loop over the M and N tiles required to compute the P element\n",
        "    for (int m = 0; m < (width-1)/TITLE_SIZE+1; ++m) {\n",
        "\n",
        "        // Collaborative loading of M and N tiles into shared memory\n",
        "        if (Row < width && m*TITLE_SIZE+tx < height) \n",
        "            Ms[ty][tx] = M[Row*width + (m*TITLE_SIZE + tx)];\n",
        "        else\n",
        "            Ms[ty][tx] = 0.0;\n",
        "\n",
        "        if (m*TITLE_SIZE+ty < width && Col < depth)\n",
        "            Ns[ty][tx] = N[(m*TITLE_SIZE + ty)*depth + Col];\n",
        "        else\n",
        "            Ns[ty][tx] = 0.0;\n",
        "\n",
        "        __syncthreads();\n",
        "\n",
        "        for (int k = 0; k < TITLE_SIZE; ++k) {\n",
        "            Pvalue += Ms[ty][k] * Ns[k][tx];\n",
        "        }\n",
        "        __syncthreads();\n",
        "    }\n",
        "    if (Row < width && Col < depth)\n",
        "        P[Row*depth + Col] = Pvalue;\n",
        "}\n",
        "\n",
        "int main() {\n",
        "    int M = 1500;\n",
        "    int N = 1500;\n",
        "    int K = 1500;\n",
        "\n",
        "    //Allocate mem for host\n",
        "    float *h_M = (float*)malloc(sizeof(float) * M * N);\n",
        "    float *h_N = (float*)malloc(sizeof(float) * M * K);\n",
        "    float *h_P = (float*)malloc(sizeof(float) * N * K);\n",
        "\n",
        "    srand(time(NULL));\n",
        "    for (int i = 0; i < N * M; i++) {\n",
        "        h_M[i] = rand() / (float)RAND_MAX;\n",
        "    }\n",
        "    for (int i = 0; i < M * K; i++) {\n",
        "        h_N[i] = rand() / (float)RAND_MAX;\n",
        "    }\n",
        "\n",
        "    //Allocate mem for device\n",
        "    float *d_M, *d_N, *d_P;\n",
        "    cudaMalloc((void**)&d_N, sizeof(float) * M * K);\n",
        "    cudaMalloc((void**)&d_M, sizeof(float)* M * N);\n",
        "    cudaMalloc((void**)&d_P, sizeof(float) * N * K);\n",
        "    cudaMemcpy(d_M, h_M, sizeof(float) * M * N, cudaMemcpyHostToDevice);\n",
        "    cudaMemcpy(d_N, h_N, sizeof(float) * M * K, cudaMemcpyHostToDevice);\n",
        "        \n",
        "    //Set up config for parallelization\n",
        "    dim3 dimGrid(ceil(K / (float)TITLE_SIZE), ceil(N / (float)TITLE_SIZE), 1);\n",
        "    dim3 dimBlock(TITLE_SIZE, TITLE_SIZE, 1);\n",
        "\n",
        "    float elapsed_time;\n",
        "    cudaEvent_t start, stop;\n",
        "    cudaEventCreate(&start);\n",
        "    cudaEventCreate(&stop);\n",
        "    cudaEventRecord(start);\n",
        "\n",
        "    //Invoke Kernel\n",
        "    MatrixMultTiled<<<dimGrid, dimBlock>>>(d_M, d_N, d_P, N, M, K);\n",
        "\n",
        "    cudaEventRecord(stop);\n",
        "    cudaEventSynchronize(stop);\n",
        "    cudaEventElapsedTime(&elapsed_time, start, stop);\n",
        "    cudaEventDestroy(start);\n",
        "    cudaEventDestroy(stop);\n",
        "\n",
        "    cudaMemcpy(h_P, d_P, sizeof(float)*N*K, cudaMemcpyDeviceToHost);\n",
        "\n",
        "    printf(\"Kernel execution time: %f ms\\n\", elapsed_time);\n",
        "\n",
        "    //Host mem free\n",
        "    free(h_M);\n",
        "    free(h_N);\n",
        "    free(h_P);\n",
        "\n",
        "    //Device mem free\n",
        "    cudaFree(d_M);\n",
        "    cudaFree(d_N);\n",
        "    cudaFree(d_P);\n",
        "\n",
        "    return 0;\n",
        "}\n"
      ],
      "metadata": {
        "colab": {
          "base_uri": "https://localhost:8080/"
        },
        "id": "3S-An1QCTmTo",
        "outputId": "a893301f-12e1-4930-aab7-595deef29369"
      },
      "execution_count": 31,
      "outputs": [
        {
          "output_type": "stream",
          "name": "stdout",
          "text": [
            "Kernel execution time: 18.635168 ms\n",
            "\n"
          ]
        }
      ]
    },
    {
      "cell_type": "markdown",
      "source": [
        "## Cuda C Tiling 32"
      ],
      "metadata": {
        "id": "CBXE1lv4nslt"
      }
    },
    {
      "cell_type": "code",
      "source": [
        "%%cu\n",
        "\n",
        "#include <stdio.h>\n",
        "#include <stdlib.h>\n",
        "#include <time.h>\n",
        "#define TITLE_SIZE 32\n",
        "\n",
        "// Kernel function with tiling\n",
        "__global__ void MatrixMultTiled(float* M, float* N, float* P, int width, int height, int depth)\n",
        "{\n",
        "    __shared__ float Ms[TITLE_SIZE][TITLE_SIZE];\n",
        "    __shared__ float Ns[TITLE_SIZE][TITLE_SIZE];\n",
        "\n",
        "    int bx = blockIdx.x; \n",
        "    int by = blockIdx.y;\n",
        "    int tx = threadIdx.x; \n",
        "    int ty = threadIdx.y;\n",
        "\n",
        "    // Identify the row and column of the P element to work on\n",
        "    int Row = by * TITLE_SIZE + ty;\n",
        "    int Col = bx * TITLE_SIZE + tx;\n",
        "\n",
        "    float Pvalue = 0;\n",
        "\n",
        "    // Loop over the M and N tiles required to compute the P element\n",
        "    for (int m = 0; m < (width-1)/TITLE_SIZE+1; ++m) {\n",
        "\n",
        "        // Collaborative loading of M and N tiles into shared memory\n",
        "        if (Row < width && m*TITLE_SIZE+tx < height) \n",
        "            Ms[ty][tx] = M[Row*width + (m*TITLE_SIZE + tx)];\n",
        "        else\n",
        "            Ms[ty][tx] = 0.0;\n",
        "\n",
        "        if (m*TITLE_SIZE+ty < width && Col < depth)\n",
        "            Ns[ty][tx] = N[(m*TITLE_SIZE + ty)*depth + Col];\n",
        "        else\n",
        "            Ns[ty][tx] = 0.0;\n",
        "\n",
        "        __syncthreads();\n",
        "\n",
        "        for (int k = 0; k < TITLE_SIZE; ++k) {\n",
        "            Pvalue += Ms[ty][k] * Ns[k][tx];\n",
        "        }\n",
        "        __syncthreads();\n",
        "    }\n",
        "    if (Row < width && Col < depth)\n",
        "        P[Row*depth + Col] = Pvalue;\n",
        "}\n",
        "\n",
        "int main() {\n",
        "    int M = 1500;\n",
        "    int N = 1500;\n",
        "    int K = 1500;\n",
        "\n",
        "    //Allocate mem for host\n",
        "    float *h_M = (float*)malloc(sizeof(float) * M * N);\n",
        "    float *h_N = (float*)malloc(sizeof(float) * M * K);\n",
        "    float *h_P = (float*)malloc(sizeof(float) * N * K);\n",
        "\n",
        "    srand(time(NULL));\n",
        "    for (int i = 0; i < N * M; i++) {\n",
        "        h_M[i] = rand() / (float)RAND_MAX;\n",
        "    }\n",
        "    for (int i = 0; i < M * K; i++) {\n",
        "        h_N[i] = rand() / (float)RAND_MAX;\n",
        "    }\n",
        "\n",
        "    //Allocate mem for device\n",
        "    float *d_M, *d_N, *d_P;\n",
        "    cudaMalloc((void**)&d_N, sizeof(float) * M * K);\n",
        "    cudaMalloc((void**)&d_M, sizeof(float)* M * N);\n",
        "    cudaMalloc((void**)&d_P, sizeof(float) * N * K);\n",
        "    cudaMemcpy(d_M, h_M, sizeof(float) * M * N, cudaMemcpyHostToDevice);\n",
        "    cudaMemcpy(d_N, h_N, sizeof(float) * M * K, cudaMemcpyHostToDevice);\n",
        "        \n",
        "    //Set up config for parallelization\n",
        "    dim3 dimGrid(ceil(K / (float)TITLE_SIZE), ceil(N / (float)TITLE_SIZE), 1);\n",
        "    dim3 dimBlock(TITLE_SIZE, TITLE_SIZE, 1);\n",
        "\n",
        "    float elapsed_time;\n",
        "    cudaEvent_t start, stop;\n",
        "    cudaEventCreate(&start);\n",
        "    cudaEventCreate(&stop);\n",
        "    cudaEventRecord(start);\n",
        "\n",
        "    //Invoke Kernel\n",
        "    MatrixMultTiled<<<dimGrid, dimBlock>>>(d_M, d_N, d_P, N, M, K);\n",
        "\n",
        "    cudaEventRecord(stop);\n",
        "    cudaEventSynchronize(stop);\n",
        "    cudaEventElapsedTime(&elapsed_time, start, stop);\n",
        "    cudaEventDestroy(start);\n",
        "    cudaEventDestroy(stop);\n",
        "\n",
        "    cudaMemcpy(h_P, d_P, sizeof(float)*N*K, cudaMemcpyDeviceToHost);\n",
        "\n",
        "    printf(\"Kernel execution time: %f ms\\n\", elapsed_time);\n",
        "\n",
        "    //Host mem free\n",
        "    free(h_M);\n",
        "    free(h_N);\n",
        "    free(h_P);\n",
        "\n",
        "    //Device mem free\n",
        "    cudaFree(d_M);\n",
        "    cudaFree(d_N);\n",
        "    cudaFree(d_P);\n",
        "\n",
        "    return 0;\n",
        "}\n"
      ],
      "metadata": {
        "colab": {
          "base_uri": "https://localhost:8080/"
        },
        "id": "__qAomP2nvAp",
        "outputId": "09e7c32e-414f-44fa-87aa-574f36cc258b"
      },
      "execution_count": 32,
      "outputs": [
        {
          "output_type": "stream",
          "name": "stdout",
          "text": [
            "Kernel execution time: 16.869440 ms\n",
            "\n"
          ]
        }
      ]
    },
    {
      "cell_type": "markdown",
      "source": [
        "## Cuda C Tiling Size 64"
      ],
      "metadata": {
        "id": "kDBg2jB2nzNW"
      }
    },
    {
      "cell_type": "code",
      "source": [
        "%%cu\n",
        "\n",
        "#include <stdio.h>\n",
        "#include <stdlib.h>\n",
        "#include <time.h>\n",
        "#define TITLE_SIZE 64\n",
        "\n",
        "// Kernel function with tiling\n",
        "__global__ void MatrixMultTiled(float* M, float* N, float* P, int width, int height, int depth)\n",
        "{\n",
        "    __shared__ float Ms[TITLE_SIZE][TITLE_SIZE];\n",
        "    __shared__ float Ns[TITLE_SIZE][TITLE_SIZE];\n",
        "\n",
        "    int bx = blockIdx.x; \n",
        "    int by = blockIdx.y;\n",
        "    int tx = threadIdx.x; \n",
        "    int ty = threadIdx.y;\n",
        "\n",
        "    // Identify the row and column of the P element to work on\n",
        "    int Row = by * TITLE_SIZE + ty;\n",
        "    int Col = bx * TITLE_SIZE + tx;\n",
        "\n",
        "    float Pvalue = 0;\n",
        "\n",
        "    // Loop over the M and N tiles required to compute the P element\n",
        "    for (int m = 0; m < (width-1)/TITLE_SIZE+1; ++m) {\n",
        "\n",
        "        // Collaborative loading of M and N tiles into shared memory\n",
        "        if (Row < width && m*TITLE_SIZE+tx < height) \n",
        "            Ms[ty][tx] = M[Row*width + (m*TITLE_SIZE + tx)];\n",
        "        else\n",
        "            Ms[ty][tx] = 0.0;\n",
        "\n",
        "        if (m*TITLE_SIZE+ty < width && Col < depth)\n",
        "            Ns[ty][tx] = N[(m*TITLE_SIZE + ty)*depth + Col];\n",
        "        else\n",
        "            Ns[ty][tx] = 0.0;\n",
        "\n",
        "        __syncthreads();\n",
        "\n",
        "        for (int k = 0; k < TITLE_SIZE; ++k) {\n",
        "            Pvalue += Ms[ty][k] * Ns[k][tx];\n",
        "        }\n",
        "        __syncthreads();\n",
        "    }\n",
        "    if (Row < width && Col < depth)\n",
        "        P[Row*depth + Col] = Pvalue;\n",
        "}\n",
        "\n",
        "int main() {\n",
        "    int M = 1500;\n",
        "    int N = 1500;\n",
        "    int K = 1500;\n",
        "\n",
        "    //Allocate mem for host\n",
        "    float *h_M = (float*)malloc(sizeof(float) * M * N);\n",
        "    float *h_N = (float*)malloc(sizeof(float) * M * K);\n",
        "    float *h_P = (float*)malloc(sizeof(float) * N * K);\n",
        "\n",
        "    srand(time(NULL));\n",
        "    for (int i = 0; i < N * M; i++) {\n",
        "        h_M[i] = rand() / (float)RAND_MAX;\n",
        "    }\n",
        "    for (int i = 0; i < M * K; i++) {\n",
        "        h_N[i] = rand() / (float)RAND_MAX;\n",
        "    }\n",
        "\n",
        "    //Allocate mem for device\n",
        "    float *d_M, *d_N, *d_P;\n",
        "    cudaMalloc((void**)&d_N, sizeof(float) * M * K);\n",
        "    cudaMalloc((void**)&d_M, sizeof(float)* M * N);\n",
        "    cudaMalloc((void**)&d_P, sizeof(float) * N * K);\n",
        "    cudaMemcpy(d_M, h_M, sizeof(float) * M * N, cudaMemcpyHostToDevice);\n",
        "    cudaMemcpy(d_N, h_N, sizeof(float) * M * K, cudaMemcpyHostToDevice);\n",
        "        \n",
        "    //Set up config for parallelization\n",
        "    dim3 dimGrid(ceil(K / (float)TITLE_SIZE), ceil(N / (float)TITLE_SIZE), 1);\n",
        "    dim3 dimBlock(TITLE_SIZE, TITLE_SIZE, 1);\n",
        "\n",
        "    float elapsed_time;\n",
        "    cudaEvent_t start, stop;\n",
        "    cudaEventCreate(&start);\n",
        "    cudaEventCreate(&stop);\n",
        "    cudaEventRecord(start);\n",
        "\n",
        "    //Invoke Kernel\n",
        "    MatrixMultTiled<<<dimGrid, dimBlock>>>(d_M, d_N, d_P, N, M, K);\n",
        "\n",
        "    cudaEventRecord(stop);\n",
        "    cudaEventSynchronize(stop);\n",
        "    cudaEventElapsedTime(&elapsed_time, start, stop);\n",
        "    cudaEventDestroy(start);\n",
        "    cudaEventDestroy(stop);\n",
        "\n",
        "    cudaMemcpy(h_P, d_P, sizeof(float)*N*K, cudaMemcpyDeviceToHost);\n",
        "\n",
        "    printf(\"Kernel execution time: %f ms\\n\", elapsed_time);\n",
        "\n",
        "    //Host mem free\n",
        "    free(h_M);\n",
        "    free(h_N);\n",
        "    free(h_P);\n",
        "\n",
        "    //Device mem free\n",
        "    cudaFree(d_M);\n",
        "    cudaFree(d_N);\n",
        "    cudaFree(d_P);\n",
        "\n",
        "    return 0;\n",
        "}\n"
      ],
      "metadata": {
        "colab": {
          "base_uri": "https://localhost:8080/"
        },
        "id": "4QwMG73HnzXu",
        "outputId": "d48e46c7-fce2-4351-9e5e-63c71e114946"
      },
      "execution_count": 33,
      "outputs": [
        {
          "output_type": "stream",
          "name": "stdout",
          "text": [
            "Kernel execution time: 0.003296 ms\n",
            "\n"
          ]
        }
      ]
    },
    {
      "cell_type": "markdown",
      "source": [
        "## Cuda C Tile Size 128"
      ],
      "metadata": {
        "id": "tCerkQNcn9T8"
      }
    },
    {
      "cell_type": "code",
      "source": [
        "%%cu\n",
        "\n",
        "#include <stdio.h>\n",
        "#include <stdlib.h>\n",
        "#include <time.h>\n",
        "#define TITLE_SIZE 128\n",
        "\n",
        "// Kernel function with tiling\n",
        "__global__ void MatrixMultTiled(float* M, float* N, float* P, int width, int height, int depth)\n",
        "{\n",
        "    __shared__ float Ms[TITLE_SIZE][TITLE_SIZE];\n",
        "    __shared__ float Ns[TITLE_SIZE][TITLE_SIZE];\n",
        "\n",
        "    int bx = blockIdx.x; \n",
        "    int by = blockIdx.y;\n",
        "    int tx = threadIdx.x; \n",
        "    int ty = threadIdx.y;\n",
        "\n",
        "    // Identify the row and column of the P element to work on\n",
        "    int Row = by * TITLE_SIZE + ty;\n",
        "    int Col = bx * TITLE_SIZE + tx;\n",
        "\n",
        "    float Pvalue = 0;\n",
        "\n",
        "    // Loop over the M and N tiles required to compute the P element\n",
        "    for (int m = 0; m < (width-1)/TITLE_SIZE+1; ++m) {\n",
        "\n",
        "        // Collaborative loading of M and N tiles into shared memory\n",
        "        if (Row < width && m*TITLE_SIZE+tx < height) \n",
        "            Ms[ty][tx] = M[Row*width + (m*TITLE_SIZE + tx)];\n",
        "        else\n",
        "            Ms[ty][tx] = 0.0;\n",
        "\n",
        "        if (m*TITLE_SIZE+ty < width && Col < depth)\n",
        "            Ns[ty][tx] = N[(m*TITLE_SIZE + ty)*depth + Col];\n",
        "        else\n",
        "            Ns[ty][tx] = 0.0;\n",
        "\n",
        "        __syncthreads();\n",
        "\n",
        "        for (int k = 0; k < TITLE_SIZE; ++k) {\n",
        "            Pvalue += Ms[ty][k] * Ns[k][tx];\n",
        "        }\n",
        "        __syncthreads();\n",
        "    }\n",
        "    if (Row < width && Col < depth)\n",
        "        P[Row*depth + Col] = Pvalue;\n",
        "}\n",
        "\n",
        "int main() {\n",
        "    int M = 1500;\n",
        "    int N = 1500;\n",
        "    int K = 1500;\n",
        "\n",
        "    //Allocate mem for host\n",
        "    float *h_M = (float*)malloc(sizeof(float) * M * N);\n",
        "    float *h_N = (float*)malloc(sizeof(float) * M * K);\n",
        "    float *h_P = (float*)malloc(sizeof(float) * N * K);\n",
        "\n",
        "    srand(time(NULL));\n",
        "    for (int i = 0; i < N * M; i++) {\n",
        "        h_M[i] = rand() / (float)RAND_MAX;\n",
        "    }\n",
        "    for (int i = 0; i < M * K; i++) {\n",
        "        h_N[i] = rand() / (float)RAND_MAX;\n",
        "    }\n",
        "\n",
        "    //Allocate mem for device\n",
        "    float *d_M, *d_N, *d_P;\n",
        "    cudaMalloc((void**)&d_N, sizeof(float) * M * K);\n",
        "    cudaMalloc((void**)&d_M, sizeof(float)* M * N);\n",
        "    cudaMalloc((void**)&d_P, sizeof(float) * N * K);\n",
        "    cudaMemcpy(d_M, h_M, sizeof(float) * M * N, cudaMemcpyHostToDevice);\n",
        "    cudaMemcpy(d_N, h_N, sizeof(float) * M * K, cudaMemcpyHostToDevice);\n",
        "        \n",
        "    //Set up config for parallelization\n",
        "    dim3 dimGrid(ceil(K / (float)TITLE_SIZE), ceil(N / (float)TITLE_SIZE), 1);\n",
        "    dim3 dimBlock(TITLE_SIZE, TITLE_SIZE, 1);\n",
        "\n",
        "    float elapsed_time;\n",
        "    cudaEvent_t start, stop;\n",
        "    cudaEventCreate(&start);\n",
        "    cudaEventCreate(&stop);\n",
        "    cudaEventRecord(start);\n",
        "\n",
        "    //Invoke Kernel\n",
        "    MatrixMultTiled<<<dimGrid, dimBlock>>>(d_M, d_N, d_P, N, M, K);\n",
        "\n",
        "    cudaEventRecord(stop);\n",
        "    cudaEventSynchronize(stop);\n",
        "    cudaEventElapsedTime(&elapsed_time, start, stop);\n",
        "    cudaEventDestroy(start);\n",
        "    cudaEventDestroy(stop);\n",
        "\n",
        "    cudaMemcpy(h_P, d_P, sizeof(float)*N*K, cudaMemcpyDeviceToHost);\n",
        "\n",
        "    printf(\"Kernel execution time: %f ms\\n\", elapsed_time);\n",
        "\n",
        "    //Host mem free\n",
        "    free(h_M);\n",
        "    free(h_N);\n",
        "    free(h_P);\n",
        "\n",
        "    //Device mem free\n",
        "    cudaFree(d_M);\n",
        "    cudaFree(d_N);\n",
        "    cudaFree(d_P);\n",
        "\n",
        "    return 0;\n",
        "}\n"
      ],
      "metadata": {
        "colab": {
          "base_uri": "https://localhost:8080/"
        },
        "id": "eZwyzMwRoAlG",
        "outputId": "761acb72-12c3-47d4-fdc2-d125df202038"
      },
      "execution_count": 34,
      "outputs": [
        {
          "output_type": "stream",
          "name": "stdout",
          "text": [
            "ptxas error   : Entry function '_Z15MatrixMultTiledPfS_S_iii' uses too much shared data (0x20000 bytes, 0xc000 max)\n",
            "\n"
          ]
        }
      ]
    }
  ]
}