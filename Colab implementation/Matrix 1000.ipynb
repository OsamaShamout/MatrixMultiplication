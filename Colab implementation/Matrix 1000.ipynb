{
  "nbformat": 4,
  "nbformat_minor": 0,
  "metadata": {
    "colab": {
      "provenance": [],
      "gpuType": "T4"
    },
    "kernelspec": {
      "name": "python3",
      "display_name": "Python 3"
    },
    "language_info": {
      "name": "python"
    },
    "accelerator": "GPU",
    "gpuClass": "standard"
  },
  "cells": [
    {
      "cell_type": "code",
      "execution_count": 5,
      "metadata": {
        "colab": {
          "base_uri": "https://localhost:8080/"
        },
        "id": "zAIOuZjhRLmq",
        "outputId": "a26ce631-abea-4490-f66b-e482d3d34527"
      },
      "outputs": [
        {
          "output_type": "stream",
          "name": "stdout",
          "text": [
            "nvcc: NVIDIA (R) Cuda compiler driver\n",
            "Copyright (c) 2005-2022 NVIDIA Corporation\n",
            "Built on Wed_Sep_21_10:33:58_PDT_2022\n",
            "Cuda compilation tools, release 11.8, V11.8.89\n",
            "Build cuda_11.8.r11.8/compiler.31833905_0\n"
          ]
        }
      ],
      "source": [
        "!nvcc --version"
      ]
    },
    {
      "cell_type": "code",
      "source": [
        "!nvidia-smi"
      ],
      "metadata": {
        "id": "S5Ps-mJalW6b",
        "outputId": "e4286975-7051-4da3-a016-0289d4af98c2",
        "colab": {
          "base_uri": "https://localhost:8080/"
        }
      },
      "execution_count": 6,
      "outputs": [
        {
          "output_type": "stream",
          "name": "stdout",
          "text": [
            "Fri May 19 20:20:14 2023       \n",
            "+-----------------------------------------------------------------------------+\n",
            "| NVIDIA-SMI 525.85.12    Driver Version: 525.85.12    CUDA Version: 12.0     |\n",
            "|-------------------------------+----------------------+----------------------+\n",
            "| GPU  Name        Persistence-M| Bus-Id        Disp.A | Volatile Uncorr. ECC |\n",
            "| Fan  Temp  Perf  Pwr:Usage/Cap|         Memory-Usage | GPU-Util  Compute M. |\n",
            "|                               |                      |               MIG M. |\n",
            "|===============================+======================+======================|\n",
            "|   0  Tesla T4            Off  | 00000000:00:04.0 Off |                    0 |\n",
            "| N/A   36C    P8     9W /  70W |      0MiB / 15360MiB |      0%      Default |\n",
            "|                               |                      |                  N/A |\n",
            "+-------------------------------+----------------------+----------------------+\n",
            "                                                                               \n",
            "+-----------------------------------------------------------------------------+\n",
            "| Processes:                                                                  |\n",
            "|  GPU   GI   CI        PID   Type   Process name                  GPU Memory |\n",
            "|        ID   ID                                                   Usage      |\n",
            "|=============================================================================|\n",
            "|  No running processes found                                                 |\n",
            "+-----------------------------------------------------------------------------+\n"
          ]
        }
      ]
    },
    {
      "cell_type": "code",
      "source": [
        "!pip install git+https://github.com/andreinechaev/nvcc4jupyter.git"
      ],
      "metadata": {
        "colab": {
          "base_uri": "https://localhost:8080/"
        },
        "id": "4nCRxKAHRns9",
        "outputId": "4c2c0e4e-59a3-4017-8472-68f41090762d"
      },
      "execution_count": 7,
      "outputs": [
        {
          "output_type": "stream",
          "name": "stdout",
          "text": [
            "Looking in indexes: https://pypi.org/simple, https://us-python.pkg.dev/colab-wheels/public/simple/\n",
            "Collecting git+https://github.com/andreinechaev/nvcc4jupyter.git\n",
            "  Cloning https://github.com/andreinechaev/nvcc4jupyter.git to /tmp/pip-req-build-0i5wl_l0\n",
            "  Running command git clone --filter=blob:none --quiet https://github.com/andreinechaev/nvcc4jupyter.git /tmp/pip-req-build-0i5wl_l0\n",
            "  Resolved https://github.com/andreinechaev/nvcc4jupyter.git to commit aac710a35f52bb78ab34d2e52517237941399eff\n",
            "  Preparing metadata (setup.py) ... \u001b[?25l\u001b[?25hdone\n",
            "Building wheels for collected packages: NVCCPlugin\n",
            "  Building wheel for NVCCPlugin (setup.py) ... \u001b[?25l\u001b[?25hdone\n",
            "  Created wheel for NVCCPlugin: filename=NVCCPlugin-0.0.2-py3-none-any.whl size=4287 sha256=d9031ca07624acddb9416e6dc3eda48c3f5528379b19bc47b6102fbb80b93424\n",
            "  Stored in directory: /tmp/pip-ephem-wheel-cache-ohegj47h/wheels/a8/b9/18/23f8ef71ceb0f63297dd1903aedd067e6243a68ea756d6feea\n",
            "Successfully built NVCCPlugin\n",
            "Installing collected packages: NVCCPlugin\n",
            "Successfully installed NVCCPlugin-0.0.2\n"
          ]
        }
      ]
    },
    {
      "cell_type": "code",
      "source": [
        "%load_ext nvcc_plugin"
      ],
      "metadata": {
        "colab": {
          "base_uri": "https://localhost:8080/"
        },
        "id": "gA-DxYpSR7Lz",
        "outputId": "e0c8bf63-6d7f-4ac7-a0f6-68c5a3f9b020"
      },
      "execution_count": 8,
      "outputs": [
        {
          "output_type": "stream",
          "name": "stdout",
          "text": [
            "created output directory at /content/src\n",
            "Out bin /content/result.out\n"
          ]
        }
      ]
    },
    {
      "cell_type": "code",
      "source": [
        "!gcc -o MatrixMultSeq.c -lm\n",
        "!./MatrixMult"
      ],
      "metadata": {
        "colab": {
          "base_uri": "https://localhost:8080/"
        },
        "id": "egNk1OQ9Vjnv",
        "outputId": "566a9767-1873-4b1a-ba04-0175462f201d"
      },
      "execution_count": 9,
      "outputs": [
        {
          "output_type": "stream",
          "name": "stdout",
          "text": [
            "/usr/bin/ld: /usr/lib/gcc/x86_64-linux-gnu/9/../../../x86_64-linux-gnu/Scrt1.o: in function `_start':\n",
            "(.text+0x24): undefined reference to `main'\n",
            "collect2: error: ld returned 1 exit status\n",
            "/bin/bash: ./MatrixMult: No such file or directory\n"
          ]
        }
      ]
    },
    {
      "cell_type": "markdown",
      "source": [
        "# Matrix Size 1000x1000"
      ],
      "metadata": {
        "id": "Ff2QTY4ApS-u"
      }
    },
    {
      "cell_type": "code",
      "source": [
        "%%writefile matrixseq.c\n",
        "\n",
        "#include <stdio.h>\n",
        "#include <stdlib.h>\n",
        "#include <time.h>\n",
        "\n",
        "#define SIZE 1000\n",
        "\n",
        "void MatrixMultSeq(float M[SIZE][SIZE], float N[SIZE][SIZE], float P[SIZE][SIZE])\n",
        "{\n",
        "    for (int i = 0; i < SIZE; i++) {\n",
        "        for (int j = 0; j < SIZE; j++) {\n",
        "            P[i][j] = 0.0;\n",
        "            for (int k = 0; k < SIZE; k++) {\n",
        "                P[i][j] += M[i][k] * N[k][j];\n",
        "            }\n",
        "        }\n",
        "    }\n",
        "}\n",
        "\n",
        "int main() {\n",
        "    float M[SIZE][SIZE];\n",
        "    float N[SIZE][SIZE];\n",
        "    float P[SIZE][SIZE];\n",
        "\n",
        "    srand(time(NULL));\n",
        "    for (int i = 0; i < SIZE; i++) {\n",
        "        for (int j = 0; j < SIZE; j++) {\n",
        "            M[i][j] = rand() / (float)RAND_MAX;\n",
        "            N[i][j] = rand() / (float)RAND_MAX;\n",
        "        }\n",
        "    }\n",
        "\n",
        "    clock_t start, end;\n",
        "    double cpu_time;\n",
        "\n",
        "    start = clock();\n",
        "\n",
        "    MatrixMultSeq(M, N, P);\n",
        "\n",
        "    end = clock();\n",
        "\n",
        "    cpu_time = ((double) (end - start)) / CLOCKS_PER_SEC;\n",
        "\n",
        "    printf(\"Execution time: %f s\\n\", cpu_time);\n",
        "\n",
        "    return 0;\n",
        "}\n"
      ],
      "metadata": {
        "colab": {
          "base_uri": "https://localhost:8080/"
        },
        "id": "nrVEluXEkQlI",
        "outputId": "4d854463-60a2-4b74-931c-465b713155c3"
      },
      "execution_count": 10,
      "outputs": [
        {
          "output_type": "stream",
          "name": "stdout",
          "text": [
            "Writing matrixseq.c\n"
          ]
        }
      ]
    },
    {
      "cell_type": "code",
      "source": [
        "!gcc matrixseq.c -o matrixseq\n",
        "!./matrixseq"
      ],
      "metadata": {
        "id": "BHJWr9ulleJM"
      },
      "execution_count": 11,
      "outputs": []
    },
    {
      "cell_type": "markdown",
      "source": [
        "## CUDA No Tiling Blocksize 16"
      ],
      "metadata": {
        "id": "gcIT0zo-ms72"
      }
    },
    {
      "cell_type": "code",
      "source": [
        "%%cu\n",
        "\n",
        "#include <stdio.h>\n",
        "#include <stdlib.h>\n",
        "#include <time.h>\n",
        "#define BLOCK_SIZE 16\n",
        "\n",
        "__global__ void MatrixMult(float* M, float* N, float* P, int height, int width, int depth)\n",
        "{\n",
        "    int row = blockIdx.y * blockDim.y + threadIdx.y;\n",
        "    int col = blockIdx.x * blockDim.x + threadIdx.x;\n",
        "\n",
        "    if (row < height && col < depth) {\n",
        "        float pvalue = 0;\n",
        "        for (int k = 0; k < width; k++) {\n",
        "            pvalue += M[row * width + k] * N[k * depth + col];\n",
        "        }\n",
        "        P[row * depth + col] = pvalue;\n",
        "    }\n",
        "}\n",
        "\n",
        "int main() {\n",
        "    int M = 1000;\n",
        "    int N = 1000;\n",
        "    int K = 1000;\n",
        "\n",
        "    //Allocate mem for host\n",
        "    float *h_M = (float*)malloc(sizeof(float) * M * N);\n",
        "    float *h_N = (float*)malloc(sizeof(float) * M * K);\n",
        "    float *h_P = (float*)malloc(sizeof(float) * N * K);\n",
        "\n",
        "    srand(time(NULL));\n",
        "    for (int i = 0; i < N * M; i++) {\n",
        "        h_M[i] = rand() / (float)RAND_MAX;\n",
        "    }\n",
        "    for (int i = 0; i < M * K; i++) {\n",
        "        h_N[i] = rand() / (float)RAND_MAX;\n",
        "    }\n",
        "\n",
        "    //Allocate mem for device\n",
        "    float *d_M, *d_N, *d_P;\n",
        "    cudaMalloc((void**)&d_N, sizeof(float) * M * K);\n",
        "    cudaMalloc((void**)&d_M, sizeof(float)* M * N);\n",
        "    cudaMalloc((void**)&d_P, sizeof(float) * N * K);\n",
        "    cudaMemcpy(d_M, h_M, sizeof(float) * M * N, cudaMemcpyHostToDevice);\n",
        "    cudaMemcpy(d_N, h_N, sizeof(float) * M * K, cudaMemcpyHostToDevice);\n",
        "        \n",
        "    //Set up config for parallelization\n",
        "    dim3 dimGrid(ceil(K / (float)BLOCK_SIZE), ceil(N / (float)BLOCK_SIZE), 1);\n",
        "    dim3 dimBlock(BLOCK_SIZE, BLOCK_SIZE, 1);\n",
        "\n",
        "    float elapsed_time;\n",
        "    cudaEvent_t start, stop;\n",
        "    cudaEventCreate(&start);\n",
        "    cudaEventCreate(&stop);\n",
        "    cudaEventRecord(start);\n",
        "\n",
        "    //Invoke Kernel\n",
        "    MatrixMult<<<dimGrid, dimBlock>>>(d_M, d_N, d_P, N, M, K);\n",
        "\n",
        "    cudaEventRecord(stop);\n",
        "    cudaEventSynchronize(stop);\n",
        "    cudaEventElapsedTime(&elapsed_time, start, stop);\n",
        "    cudaEventDestroy(start);\n",
        "    cudaEventDestroy(stop);\n",
        "\n",
        "    cudaMemcpy(h_P, d_P, sizeof(float)*N*K, cudaMemcpyDeviceToHost);\n",
        "\n",
        "    printf(\"Kernel execution time: %f ms\\n\", elapsed_time);\n",
        "\n",
        "    //Host mem free\n",
        "    free(h_M);\n",
        "    free(h_N);\n",
        "    free(h_P);\n",
        "\n",
        "    //Device mem free\n",
        "    cudaFree(d_M);\n",
        "    cudaFree(d_N);\n",
        "    cudaFree(d_P);\n",
        "\n",
        "    return 0;\n",
        "}\n"
      ],
      "metadata": {
        "colab": {
          "base_uri": "https://localhost:8080/"
        },
        "id": "DFPp2bmIUSlk",
        "outputId": "9865998d-fb40-4bea-c778-be793ff9c9d3"
      },
      "execution_count": 12,
      "outputs": [
        {
          "output_type": "stream",
          "name": "stdout",
          "text": [
            "Kernel execution time: 7.008992 ms\n",
            "\n"
          ]
        }
      ]
    },
    {
      "cell_type": "markdown",
      "source": [
        "## Cuda C No tiling Blocksize 32"
      ],
      "metadata": {
        "id": "eehmxuY2m3Mm"
      }
    },
    {
      "cell_type": "code",
      "source": [
        "%%cu\n",
        "\n",
        "#include <stdio.h>\n",
        "#include <stdlib.h>\n",
        "#include <time.h>\n",
        "#define BLOCK_SIZE 32\n",
        "\n",
        "__global__ void MatrixMult(float* M, float* N, float* P, int height, int width, int depth)\n",
        "{\n",
        "    int row = blockIdx.y * blockDim.y + threadIdx.y;\n",
        "    int col = blockIdx.x * blockDim.x + threadIdx.x;\n",
        "\n",
        "    if (row < height && col < depth) {\n",
        "        float pvalue = 0;\n",
        "        for (int k = 0; k < width; k++) {\n",
        "            pvalue += M[row * width + k] * N[k * depth + col];\n",
        "        }\n",
        "        P[row * depth + col] = pvalue;\n",
        "    }\n",
        "}\n",
        "\n",
        "int main() {\n",
        "    int M = 1000;\n",
        "    int N = 1000;\n",
        "    int K = 1000;\n",
        "\n",
        "    //Allocate mem for host\n",
        "    float *h_M = (float*)malloc(sizeof(float) * M * N);\n",
        "    float *h_N = (float*)malloc(sizeof(float) * M * K);\n",
        "    float *h_P = (float*)malloc(sizeof(float) * N * K);\n",
        "\n",
        "    srand(time(NULL));\n",
        "    for (int i = 0; i < N * M; i++) {\n",
        "        h_M[i] = rand() / (float)RAND_MAX;\n",
        "    }\n",
        "    for (int i = 0; i < M * K; i++) {\n",
        "        h_N[i] = rand() / (float)RAND_MAX;\n",
        "    }\n",
        "\n",
        "    //Allocate mem for device\n",
        "    float *d_M, *d_N, *d_P;\n",
        "    cudaMalloc((void**)&d_N, sizeof(float) * M * K);\n",
        "    cudaMalloc((void**)&d_M, sizeof(float)* M * N);\n",
        "    cudaMalloc((void**)&d_P, sizeof(float) * N * K);\n",
        "    cudaMemcpy(d_M, h_M, sizeof(float) * M * N, cudaMemcpyHostToDevice);\n",
        "    cudaMemcpy(d_N, h_N, sizeof(float) * M * K, cudaMemcpyHostToDevice);\n",
        "        \n",
        "    //Set up config for parallelization\n",
        "    dim3 dimGrid(ceil(K / (float)BLOCK_SIZE), ceil(N / (float)BLOCK_SIZE), 1);\n",
        "    dim3 dimBlock(BLOCK_SIZE, BLOCK_SIZE, 1);\n",
        "\n",
        "    float elapsed_time;\n",
        "    cudaEvent_t start, stop;\n",
        "    cudaEventCreate(&start);\n",
        "    cudaEventCreate(&stop);\n",
        "    cudaEventRecord(start);\n",
        "\n",
        "    //Invoke Kernel\n",
        "    MatrixMult<<<dimGrid, dimBlock>>>(d_M, d_N, d_P, N, M, K);\n",
        "\n",
        "    cudaEventRecord(stop);\n",
        "    cudaEventSynchronize(stop);\n",
        "    cudaEventElapsedTime(&elapsed_time, start, stop);\n",
        "    cudaEventDestroy(start);\n",
        "    cudaEventDestroy(stop);\n",
        "\n",
        "    cudaMemcpy(h_P, d_P, sizeof(float)*N*K, cudaMemcpyDeviceToHost);\n",
        "\n",
        "    printf(\"Kernel execution time: %f ms\\n\", elapsed_time);\n",
        "\n",
        "    //Host mem free\n",
        "    free(h_M);\n",
        "    free(h_N);\n",
        "    free(h_P);\n",
        "\n",
        "    //Device mem free\n",
        "    cudaFree(d_M);\n",
        "    cudaFree(d_N);\n",
        "    cudaFree(d_P);\n",
        "\n",
        "    return 0;\n",
        "}\n"
      ],
      "metadata": {
        "colab": {
          "base_uri": "https://localhost:8080/"
        },
        "id": "-VflPBymm0Ln",
        "outputId": "a0d38510-2585-472e-db4f-ff0a50e7f12d"
      },
      "execution_count": 13,
      "outputs": [
        {
          "output_type": "stream",
          "name": "stdout",
          "text": [
            "Kernel execution time: 6.356096 ms\n",
            "\n"
          ]
        }
      ]
    },
    {
      "cell_type": "markdown",
      "source": [
        "## Cuda C No Tiling Block size 64"
      ],
      "metadata": {
        "id": "nwnFH6RHm_Z0"
      }
    },
    {
      "cell_type": "code",
      "source": [
        "%%cu\n",
        "\n",
        "#include <stdio.h>\n",
        "#include <stdlib.h>\n",
        "#include <time.h>\n",
        "#define BLOCK_SIZE 64\n",
        "\n",
        "__global__ void MatrixMult(float* M, float* N, float* P, int height, int width, int depth)\n",
        "{\n",
        "    int row = blockIdx.y * blockDim.y + threadIdx.y;\n",
        "    int col = blockIdx.x * blockDim.x + threadIdx.x;\n",
        "\n",
        "    if (row < height && col < depth) {\n",
        "        float pvalue = 0;\n",
        "        for (int k = 0; k < width; k++) {\n",
        "            pvalue += M[row * width + k] * N[k * depth + col];\n",
        "        }\n",
        "        P[row * depth + col] = pvalue;\n",
        "    }\n",
        "}\n",
        "\n",
        "int main() {\n",
        "    int M = 1000;\n",
        "    int N = 1000;\n",
        "    int K = 1000;\n",
        "\n",
        "    //Allocate mem for host\n",
        "    float *h_M = (float*)malloc(sizeof(float) * M * N);\n",
        "    float *h_N = (float*)malloc(sizeof(float) * M * K);\n",
        "    float *h_P = (float*)malloc(sizeof(float) * N * K);\n",
        "\n",
        "    srand(time(NULL));\n",
        "    for (int i = 0; i < N * M; i++) {\n",
        "        h_M[i] = rand() / (float)RAND_MAX;\n",
        "    }\n",
        "    for (int i = 0; i < M * K; i++) {\n",
        "        h_N[i] = rand() / (float)RAND_MAX;\n",
        "    }\n",
        "\n",
        "    //Allocate mem for device\n",
        "    float *d_M, *d_N, *d_P;\n",
        "    cudaMalloc((void**)&d_N, sizeof(float) * M * K);\n",
        "    cudaMalloc((void**)&d_M, sizeof(float)* M * N);\n",
        "    cudaMalloc((void**)&d_P, sizeof(float) * N * K);\n",
        "    cudaMemcpy(d_M, h_M, sizeof(float) * M * N, cudaMemcpyHostToDevice);\n",
        "    cudaMemcpy(d_N, h_N, sizeof(float) * M * K, cudaMemcpyHostToDevice);\n",
        "        \n",
        "    //Set up config for parallelization\n",
        "    dim3 dimGrid(ceil(K / (float)BLOCK_SIZE), ceil(N / (float)BLOCK_SIZE), 1);\n",
        "    dim3 dimBlock(BLOCK_SIZE, BLOCK_SIZE, 1);\n",
        "\n",
        "    float elapsed_time;\n",
        "    cudaEvent_t start, stop;\n",
        "    cudaEventCreate(&start);\n",
        "    cudaEventCreate(&stop);\n",
        "    cudaEventRecord(start);\n",
        "\n",
        "    //Invoke Kernel\n",
        "    MatrixMult<<<dimGrid, dimBlock>>>(d_M, d_N, d_P, N, M, K);\n",
        "\n",
        "    cudaEventRecord(stop);\n",
        "    cudaEventSynchronize(stop);\n",
        "    cudaEventElapsedTime(&elapsed_time, start, stop);\n",
        "    cudaEventDestroy(start);\n",
        "    cudaEventDestroy(stop);\n",
        "\n",
        "    cudaMemcpy(h_P, d_P, sizeof(float)*N*K, cudaMemcpyDeviceToHost);\n",
        "\n",
        "    printf(\"Kernel execution time: %f ms\\n\", elapsed_time);\n",
        "\n",
        "    //Host mem free\n",
        "    free(h_M);\n",
        "    free(h_N);\n",
        "    free(h_P);\n",
        "\n",
        "    //Device mem free\n",
        "    cudaFree(d_M);\n",
        "    cudaFree(d_N);\n",
        "    cudaFree(d_P);\n",
        "\n",
        "    return 0;\n",
        "}\n"
      ],
      "metadata": {
        "colab": {
          "base_uri": "https://localhost:8080/"
        },
        "id": "VyNJjAubm_Lx",
        "outputId": "e2c14138-8786-4353-f594-18a464ef67b9"
      },
      "execution_count": 14,
      "outputs": [
        {
          "output_type": "stream",
          "name": "stdout",
          "text": [
            "Kernel execution time: 0.003040 ms\n",
            "\n"
          ]
        }
      ]
    },
    {
      "cell_type": "markdown",
      "source": [
        "## Cuda C No Tiling Block Size 128"
      ],
      "metadata": {
        "id": "1cGw7ooGnLxQ"
      }
    },
    {
      "cell_type": "code",
      "source": [
        "%%cu\n",
        "\n",
        "#include <stdio.h>\n",
        "#include <stdlib.h>\n",
        "#include <time.h>\n",
        "#define BLOCK_SIZE 128\n",
        "\n",
        "__global__ void MatrixMult(float* M, float* N, float* P, int height, int width, int depth)\n",
        "{\n",
        "    int row = blockIdx.y * blockDim.y + threadIdx.y;\n",
        "    int col = blockIdx.x * blockDim.x + threadIdx.x;\n",
        "\n",
        "    if (row < height && col < depth) {\n",
        "        float pvalue = 0;\n",
        "        for (int k = 0; k < width; k++) {\n",
        "            pvalue += M[row * width + k] * N[k * depth + col];\n",
        "        }\n",
        "        P[row * depth + col] = pvalue;\n",
        "    }\n",
        "}\n",
        "\n",
        "int main() {\n",
        "    int M = 1000;\n",
        "    int N = 1000;\n",
        "    int K = 1000;\n",
        "\n",
        "    //Allocate mem for host\n",
        "    float *h_M = (float*)malloc(sizeof(float) * M * N);\n",
        "    float *h_N = (float*)malloc(sizeof(float) * M * K);\n",
        "    float *h_P = (float*)malloc(sizeof(float) * N * K);\n",
        "\n",
        "    srand(time(NULL));\n",
        "    for (int i = 0; i < N * M; i++) {\n",
        "        h_M[i] = rand() / (float)RAND_MAX;\n",
        "    }\n",
        "    for (int i = 0; i < M * K; i++) {\n",
        "        h_N[i] = rand() / (float)RAND_MAX;\n",
        "    }\n",
        "\n",
        "    //Allocate mem for device\n",
        "    float *d_M, *d_N, *d_P;\n",
        "    cudaMalloc((void**)&d_N, sizeof(float) * M * K);\n",
        "    cudaMalloc((void**)&d_M, sizeof(float)* M * N);\n",
        "    cudaMalloc((void**)&d_P, sizeof(float) * N * K);\n",
        "    cudaMemcpy(d_M, h_M, sizeof(float) * M * N, cudaMemcpyHostToDevice);\n",
        "    cudaMemcpy(d_N, h_N, sizeof(float) * M * K, cudaMemcpyHostToDevice);\n",
        "        \n",
        "    //Set up config for parallelization\n",
        "    dim3 dimGrid(ceil(K / (float)BLOCK_SIZE), ceil(N / (float)BLOCK_SIZE), 1);\n",
        "    dim3 dimBlock(BLOCK_SIZE, BLOCK_SIZE, 1);\n",
        "\n",
        "    float elapsed_time;\n",
        "    cudaEvent_t start, stop;\n",
        "    cudaEventCreate(&start);\n",
        "    cudaEventCreate(&stop);\n",
        "    cudaEventRecord(start);\n",
        "\n",
        "    //Invoke Kernel\n",
        "    MatrixMult<<<dimGrid, dimBlock>>>(d_M, d_N, d_P, N, M, K);\n",
        "\n",
        "    cudaEventRecord(stop);\n",
        "    cudaEventSynchronize(stop);\n",
        "    cudaEventElapsedTime(&elapsed_time, start, stop);\n",
        "    cudaEventDestroy(start);\n",
        "    cudaEventDestroy(stop);\n",
        "\n",
        "    cudaMemcpy(h_P, d_P, sizeof(float)*N*K, cudaMemcpyDeviceToHost);\n",
        "\n",
        "    printf(\"Kernel execution time: %f ms\\n\", elapsed_time);\n",
        "\n",
        "    //Host mem free\n",
        "    free(h_M);\n",
        "    free(h_N);\n",
        "    free(h_P);\n",
        "\n",
        "    //Device mem free\n",
        "    cudaFree(d_M);\n",
        "    cudaFree(d_N);\n",
        "    cudaFree(d_P);\n",
        "\n",
        "    return 0;\n",
        "}\n"
      ],
      "metadata": {
        "colab": {
          "base_uri": "https://localhost:8080/"
        },
        "id": "sKnt-wKYnLnU",
        "outputId": "f560af0c-46ff-46e7-ee07-aa167076ab31"
      },
      "execution_count": 15,
      "outputs": [
        {
          "output_type": "stream",
          "name": "stdout",
          "text": [
            "Kernel execution time: 0.003072 ms\n",
            "\n"
          ]
        }
      ]
    },
    {
      "cell_type": "markdown",
      "source": [
        "## Cuda C Tiling Tile Size 16"
      ],
      "metadata": {
        "id": "YN4V6EWQnfem"
      }
    },
    {
      "cell_type": "code",
      "source": [
        "%%cu\n",
        "\n",
        "#include <stdio.h>\n",
        "#include <stdlib.h>\n",
        "#include <time.h>\n",
        "#define TITLE_SIZE 16\n",
        "\n",
        "// Kernel function with tiling\n",
        "__global__ void MatrixMultTiled(float* M, float* N, float* P, int width, int height, int depth)\n",
        "{\n",
        "    __shared__ float Ms[TITLE_SIZE][TITLE_SIZE];\n",
        "    __shared__ float Ns[TITLE_SIZE][TITLE_SIZE];\n",
        "\n",
        "    int bx = blockIdx.x; \n",
        "    int by = blockIdx.y;\n",
        "    int tx = threadIdx.x; \n",
        "    int ty = threadIdx.y;\n",
        "\n",
        "    // Identify the row and column of the P element to work on\n",
        "    int Row = by * TITLE_SIZE + ty;\n",
        "    int Col = bx * TITLE_SIZE + tx;\n",
        "\n",
        "    float Pvalue = 0;\n",
        "\n",
        "    // Loop over the M and N tiles required to compute the P element\n",
        "    for (int m = 0; m < (width-1)/TITLE_SIZE+1; ++m) {\n",
        "\n",
        "        // Collaborative loading of M and N tiles into shared memory\n",
        "        if (Row < width && m*TITLE_SIZE+tx < height) \n",
        "            Ms[ty][tx] = M[Row*width + (m*TITLE_SIZE + tx)];\n",
        "        else\n",
        "            Ms[ty][tx] = 0.0;\n",
        "\n",
        "        if (m*TITLE_SIZE+ty < width && Col < depth)\n",
        "            Ns[ty][tx] = N[(m*TITLE_SIZE + ty)*depth + Col];\n",
        "        else\n",
        "            Ns[ty][tx] = 0.0;\n",
        "\n",
        "        __syncthreads();\n",
        "\n",
        "        for (int k = 0; k < TITLE_SIZE; ++k) {\n",
        "            Pvalue += Ms[ty][k] * Ns[k][tx];\n",
        "        }\n",
        "        __syncthreads();\n",
        "    }\n",
        "    if (Row < width && Col < depth)\n",
        "        P[Row*depth + Col] = Pvalue;\n",
        "}\n",
        "\n",
        "int main() {\n",
        "    int M = 1000;\n",
        "    int N = 1000;\n",
        "    int K = 1000;\n",
        "\n",
        "    //Allocate mem for host\n",
        "    float *h_M = (float*)malloc(sizeof(float) * M * N);\n",
        "    float *h_N = (float*)malloc(sizeof(float) * M * K);\n",
        "    float *h_P = (float*)malloc(sizeof(float) * N * K);\n",
        "\n",
        "    srand(time(NULL));\n",
        "    for (int i = 0; i < N * M; i++) {\n",
        "        h_M[i] = rand() / (float)RAND_MAX;\n",
        "    }\n",
        "    for (int i = 0; i < M * K; i++) {\n",
        "        h_N[i] = rand() / (float)RAND_MAX;\n",
        "    }\n",
        "\n",
        "    //Allocate mem for device\n",
        "    float *d_M, *d_N, *d_P;\n",
        "    cudaMalloc((void**)&d_N, sizeof(float) * M * K);\n",
        "    cudaMalloc((void**)&d_M, sizeof(float)* M * N);\n",
        "    cudaMalloc((void**)&d_P, sizeof(float) * N * K);\n",
        "    cudaMemcpy(d_M, h_M, sizeof(float) * M * N, cudaMemcpyHostToDevice);\n",
        "    cudaMemcpy(d_N, h_N, sizeof(float) * M * K, cudaMemcpyHostToDevice);\n",
        "        \n",
        "    //Set up config for parallelization\n",
        "    dim3 dimGrid(ceil(K / (float)TITLE_SIZE), ceil(N / (float)TITLE_SIZE), 1);\n",
        "    dim3 dimBlock(TITLE_SIZE, TITLE_SIZE, 1);\n",
        "\n",
        "    float elapsed_time;\n",
        "    cudaEvent_t start, stop;\n",
        "    cudaEventCreate(&start);\n",
        "    cudaEventCreate(&stop);\n",
        "    cudaEventRecord(start);\n",
        "\n",
        "    //Invoke Kernel\n",
        "    MatrixMultTiled<<<dimGrid, dimBlock>>>(d_M, d_N, d_P, N, M, K);\n",
        "\n",
        "    cudaEventRecord(stop);\n",
        "    cudaEventSynchronize(stop);\n",
        "    cudaEventElapsedTime(&elapsed_time, start, stop);\n",
        "    cudaEventDestroy(start);\n",
        "    cudaEventDestroy(stop);\n",
        "\n",
        "    cudaMemcpy(h_P, d_P, sizeof(float)*N*K, cudaMemcpyDeviceToHost);\n",
        "\n",
        "    printf(\"Kernel execution time: %f ms\\n\", elapsed_time);\n",
        "\n",
        "    //Host mem free\n",
        "    free(h_M);\n",
        "    free(h_N);\n",
        "    free(h_P);\n",
        "\n",
        "    //Device mem free\n",
        "    cudaFree(d_M);\n",
        "    cudaFree(d_N);\n",
        "    cudaFree(d_P);\n",
        "\n",
        "    return 0;\n",
        "}\n"
      ],
      "metadata": {
        "colab": {
          "base_uri": "https://localhost:8080/"
        },
        "id": "3S-An1QCTmTo",
        "outputId": "36870ca5-13dd-4fed-e115-7f63fcbad982"
      },
      "execution_count": 16,
      "outputs": [
        {
          "output_type": "stream",
          "name": "stdout",
          "text": [
            "Kernel execution time: 5.553920 ms\n",
            "\n"
          ]
        }
      ]
    },
    {
      "cell_type": "markdown",
      "source": [
        "## Cuda C Tiling 32"
      ],
      "metadata": {
        "id": "CBXE1lv4nslt"
      }
    },
    {
      "cell_type": "code",
      "source": [
        "%%cu\n",
        "\n",
        "#include <stdio.h>\n",
        "#include <stdlib.h>\n",
        "#include <time.h>\n",
        "#define TITLE_SIZE 32\n",
        "\n",
        "// Kernel function with tiling\n",
        "__global__ void MatrixMultTiled(float* M, float* N, float* P, int width, int height, int depth)\n",
        "{\n",
        "    __shared__ float Ms[TITLE_SIZE][TITLE_SIZE];\n",
        "    __shared__ float Ns[TITLE_SIZE][TITLE_SIZE];\n",
        "\n",
        "    int bx = blockIdx.x; \n",
        "    int by = blockIdx.y;\n",
        "    int tx = threadIdx.x; \n",
        "    int ty = threadIdx.y;\n",
        "\n",
        "    // Identify the row and column of the P element to work on\n",
        "    int Row = by * TITLE_SIZE + ty;\n",
        "    int Col = bx * TITLE_SIZE + tx;\n",
        "\n",
        "    float Pvalue = 0;\n",
        "\n",
        "    // Loop over the M and N tiles required to compute the P element\n",
        "    for (int m = 0; m < (width-1)/TITLE_SIZE+1; ++m) {\n",
        "\n",
        "        // Collaborative loading of M and N tiles into shared memory\n",
        "        if (Row < width && m*TITLE_SIZE+tx < height) \n",
        "            Ms[ty][tx] = M[Row*width + (m*TITLE_SIZE + tx)];\n",
        "        else\n",
        "            Ms[ty][tx] = 0.0;\n",
        "\n",
        "        if (m*TITLE_SIZE+ty < width && Col < depth)\n",
        "            Ns[ty][tx] = N[(m*TITLE_SIZE + ty)*depth + Col];\n",
        "        else\n",
        "            Ns[ty][tx] = 0.0;\n",
        "\n",
        "        __syncthreads();\n",
        "\n",
        "        for (int k = 0; k < TITLE_SIZE; ++k) {\n",
        "            Pvalue += Ms[ty][k] * Ns[k][tx];\n",
        "        }\n",
        "        __syncthreads();\n",
        "    }\n",
        "    if (Row < width && Col < depth)\n",
        "        P[Row*depth + Col] = Pvalue;\n",
        "}\n",
        "\n",
        "int main() {\n",
        "    int M = 1000;\n",
        "    int N = 1000;\n",
        "    int K = 1000;\n",
        "\n",
        "    //Allocate mem for host\n",
        "    float *h_M = (float*)malloc(sizeof(float) * M * N);\n",
        "    float *h_N = (float*)malloc(sizeof(float) * M * K);\n",
        "    float *h_P = (float*)malloc(sizeof(float) * N * K);\n",
        "\n",
        "    srand(time(NULL));\n",
        "    for (int i = 0; i < N * M; i++) {\n",
        "        h_M[i] = rand() / (float)RAND_MAX;\n",
        "    }\n",
        "    for (int i = 0; i < M * K; i++) {\n",
        "        h_N[i] = rand() / (float)RAND_MAX;\n",
        "    }\n",
        "\n",
        "    //Allocate mem for device\n",
        "    float *d_M, *d_N, *d_P;\n",
        "    cudaMalloc((void**)&d_N, sizeof(float) * M * K);\n",
        "    cudaMalloc((void**)&d_M, sizeof(float)* M * N);\n",
        "    cudaMalloc((void**)&d_P, sizeof(float) * N * K);\n",
        "    cudaMemcpy(d_M, h_M, sizeof(float) * M * N, cudaMemcpyHostToDevice);\n",
        "    cudaMemcpy(d_N, h_N, sizeof(float) * M * K, cudaMemcpyHostToDevice);\n",
        "        \n",
        "    //Set up config for parallelization\n",
        "    dim3 dimGrid(ceil(K / (float)TITLE_SIZE), ceil(N / (float)TITLE_SIZE), 1);\n",
        "    dim3 dimBlock(TITLE_SIZE, TITLE_SIZE, 1);\n",
        "\n",
        "    float elapsed_time;\n",
        "    cudaEvent_t start, stop;\n",
        "    cudaEventCreate(&start);\n",
        "    cudaEventCreate(&stop);\n",
        "    cudaEventRecord(start);\n",
        "\n",
        "    //Invoke Kernel\n",
        "    MatrixMultTiled<<<dimGrid, dimBlock>>>(d_M, d_N, d_P, N, M, K);\n",
        "\n",
        "    cudaEventRecord(stop);\n",
        "    cudaEventSynchronize(stop);\n",
        "    cudaEventElapsedTime(&elapsed_time, start, stop);\n",
        "    cudaEventDestroy(start);\n",
        "    cudaEventDestroy(stop);\n",
        "\n",
        "    cudaMemcpy(h_P, d_P, sizeof(float)*N*K, cudaMemcpyDeviceToHost);\n",
        "\n",
        "    printf(\"Kernel execution time: %f ms\\n\", elapsed_time);\n",
        "\n",
        "    //Host mem free\n",
        "    free(h_M);\n",
        "    free(h_N);\n",
        "    free(h_P);\n",
        "\n",
        "    //Device mem free\n",
        "    cudaFree(d_M);\n",
        "    cudaFree(d_N);\n",
        "    cudaFree(d_P);\n",
        "\n",
        "    return 0;\n",
        "}\n"
      ],
      "metadata": {
        "colab": {
          "base_uri": "https://localhost:8080/"
        },
        "id": "__qAomP2nvAp",
        "outputId": "36eae5a4-f390-4f53-9b84-29efcb439d43"
      },
      "execution_count": 17,
      "outputs": [
        {
          "output_type": "stream",
          "name": "stdout",
          "text": [
            "Kernel execution time: 5.311200 ms\n",
            "\n"
          ]
        }
      ]
    },
    {
      "cell_type": "markdown",
      "source": [
        "## Cuda C Tiling Size 64"
      ],
      "metadata": {
        "id": "kDBg2jB2nzNW"
      }
    },
    {
      "cell_type": "code",
      "source": [
        "%%cu\n",
        "\n",
        "#include <stdio.h>\n",
        "#include <stdlib.h>\n",
        "#include <time.h>\n",
        "#define TITLE_SIZE 64\n",
        "\n",
        "// Kernel function with tiling\n",
        "__global__ void MatrixMultTiled(float* M, float* N, float* P, int width, int height, int depth)\n",
        "{\n",
        "    __shared__ float Ms[TITLE_SIZE][TITLE_SIZE];\n",
        "    __shared__ float Ns[TITLE_SIZE][TITLE_SIZE];\n",
        "\n",
        "    int bx = blockIdx.x; \n",
        "    int by = blockIdx.y;\n",
        "    int tx = threadIdx.x; \n",
        "    int ty = threadIdx.y;\n",
        "\n",
        "    // Identify the row and column of the P element to work on\n",
        "    int Row = by * TITLE_SIZE + ty;\n",
        "    int Col = bx * TITLE_SIZE + tx;\n",
        "\n",
        "    float Pvalue = 0;\n",
        "\n",
        "    // Loop over the M and N tiles required to compute the P element\n",
        "    for (int m = 0; m < (width-1)/TITLE_SIZE+1; ++m) {\n",
        "\n",
        "        // Collaborative loading of M and N tiles into shared memory\n",
        "        if (Row < width && m*TITLE_SIZE+tx < height) \n",
        "            Ms[ty][tx] = M[Row*width + (m*TITLE_SIZE + tx)];\n",
        "        else\n",
        "            Ms[ty][tx] = 0.0;\n",
        "\n",
        "        if (m*TITLE_SIZE+ty < width && Col < depth)\n",
        "            Ns[ty][tx] = N[(m*TITLE_SIZE + ty)*depth + Col];\n",
        "        else\n",
        "            Ns[ty][tx] = 0.0;\n",
        "\n",
        "        __syncthreads();\n",
        "\n",
        "        for (int k = 0; k < TITLE_SIZE; ++k) {\n",
        "            Pvalue += Ms[ty][k] * Ns[k][tx];\n",
        "        }\n",
        "        __syncthreads();\n",
        "    }\n",
        "    if (Row < width && Col < depth)\n",
        "        P[Row*depth + Col] = Pvalue;\n",
        "}\n",
        "\n",
        "int main() {\n",
        "    int M = 1000;\n",
        "    int N = 1000;\n",
        "    int K = 1000;\n",
        "\n",
        "    //Allocate mem for host\n",
        "    float *h_M = (float*)malloc(sizeof(float) * M * N);\n",
        "    float *h_N = (float*)malloc(sizeof(float) * M * K);\n",
        "    float *h_P = (float*)malloc(sizeof(float) * N * K);\n",
        "\n",
        "    srand(time(NULL));\n",
        "    for (int i = 0; i < N * M; i++) {\n",
        "        h_M[i] = rand() / (float)RAND_MAX;\n",
        "    }\n",
        "    for (int i = 0; i < M * K; i++) {\n",
        "        h_N[i] = rand() / (float)RAND_MAX;\n",
        "    }\n",
        "\n",
        "    //Allocate mem for device\n",
        "    float *d_M, *d_N, *d_P;\n",
        "    cudaMalloc((void**)&d_N, sizeof(float) * M * K);\n",
        "    cudaMalloc((void**)&d_M, sizeof(float)* M * N);\n",
        "    cudaMalloc((void**)&d_P, sizeof(float) * N * K);\n",
        "    cudaMemcpy(d_M, h_M, sizeof(float) * M * N, cudaMemcpyHostToDevice);\n",
        "    cudaMemcpy(d_N, h_N, sizeof(float) * M * K, cudaMemcpyHostToDevice);\n",
        "        \n",
        "    //Set up config for parallelization\n",
        "    dim3 dimGrid(ceil(K / (float)TITLE_SIZE), ceil(N / (float)TITLE_SIZE), 1);\n",
        "    dim3 dimBlock(TITLE_SIZE, TITLE_SIZE, 1);\n",
        "\n",
        "    float elapsed_time;\n",
        "    cudaEvent_t start, stop;\n",
        "    cudaEventCreate(&start);\n",
        "    cudaEventCreate(&stop);\n",
        "    cudaEventRecord(start);\n",
        "\n",
        "    //Invoke Kernel\n",
        "    MatrixMultTiled<<<dimGrid, dimBlock>>>(d_M, d_N, d_P, N, M, K);\n",
        "\n",
        "    cudaEventRecord(stop);\n",
        "    cudaEventSynchronize(stop);\n",
        "    cudaEventElapsedTime(&elapsed_time, start, stop);\n",
        "    cudaEventDestroy(start);\n",
        "    cudaEventDestroy(stop);\n",
        "\n",
        "    cudaMemcpy(h_P, d_P, sizeof(float)*N*K, cudaMemcpyDeviceToHost);\n",
        "\n",
        "    printf(\"Kernel execution time: %f ms\\n\", elapsed_time);\n",
        "\n",
        "    //Host mem free\n",
        "    free(h_M);\n",
        "    free(h_N);\n",
        "    free(h_P);\n",
        "\n",
        "    //Device mem free\n",
        "    cudaFree(d_M);\n",
        "    cudaFree(d_N);\n",
        "    cudaFree(d_P);\n",
        "\n",
        "    return 0;\n",
        "}\n"
      ],
      "metadata": {
        "colab": {
          "base_uri": "https://localhost:8080/"
        },
        "id": "4QwMG73HnzXu",
        "outputId": "8fb6580e-7ece-4964-9810-7eb9c1a8fd95"
      },
      "execution_count": 18,
      "outputs": [
        {
          "output_type": "stream",
          "name": "stdout",
          "text": [
            "Kernel execution time: 0.003040 ms\n",
            "\n"
          ]
        }
      ]
    },
    {
      "cell_type": "markdown",
      "source": [
        "## Cuda C Tile Size 128"
      ],
      "metadata": {
        "id": "tCerkQNcn9T8"
      }
    },
    {
      "cell_type": "code",
      "source": [
        "%%cu\n",
        "\n",
        "#include <stdio.h>\n",
        "#include <stdlib.h>\n",
        "#include <time.h>\n",
        "#define TITLE_SIZE 128\n",
        "\n",
        "// Kernel function with tiling\n",
        "__global__ void MatrixMultTiled(float* M, float* N, float* P, int width, int height, int depth)\n",
        "{\n",
        "    __shared__ float Ms[TITLE_SIZE][TITLE_SIZE];\n",
        "    __shared__ float Ns[TITLE_SIZE][TITLE_SIZE];\n",
        "\n",
        "    int bx = blockIdx.x; \n",
        "    int by = blockIdx.y;\n",
        "    int tx = threadIdx.x; \n",
        "    int ty = threadIdx.y;\n",
        "\n",
        "    // Identify the row and column of the P element to work on\n",
        "    int Row = by * TITLE_SIZE + ty;\n",
        "    int Col = bx * TITLE_SIZE + tx;\n",
        "\n",
        "    float Pvalue = 0;\n",
        "\n",
        "    // Loop over the M and N tiles required to compute the P element\n",
        "    for (int m = 0; m < (width-1)/TITLE_SIZE+1; ++m) {\n",
        "\n",
        "        // Collaborative loading of M and N tiles into shared memory\n",
        "        if (Row < width && m*TITLE_SIZE+tx < height) \n",
        "            Ms[ty][tx] = M[Row*width + (m*TITLE_SIZE + tx)];\n",
        "        else\n",
        "            Ms[ty][tx] = 0.0;\n",
        "\n",
        "        if (m*TITLE_SIZE+ty < width && Col < depth)\n",
        "            Ns[ty][tx] = N[(m*TITLE_SIZE + ty)*depth + Col];\n",
        "        else\n",
        "            Ns[ty][tx] = 0.0;\n",
        "\n",
        "        __syncthreads();\n",
        "\n",
        "        for (int k = 0; k < TITLE_SIZE; ++k) {\n",
        "            Pvalue += Ms[ty][k] * Ns[k][tx];\n",
        "        }\n",
        "        __syncthreads();\n",
        "    }\n",
        "    if (Row < width && Col < depth)\n",
        "        P[Row*depth + Col] = Pvalue;\n",
        "}\n",
        "\n",
        "int main() {\n",
        "    int M = 1000;\n",
        "    int N = 1000;\n",
        "    int K = 1000;\n",
        "\n",
        "    //Allocate mem for host\n",
        "    float *h_M = (float*)malloc(sizeof(float) * M * N);\n",
        "    float *h_N = (float*)malloc(sizeof(float) * M * K);\n",
        "    float *h_P = (float*)malloc(sizeof(float) * N * K);\n",
        "\n",
        "    srand(time(NULL));\n",
        "    for (int i = 0; i < N * M; i++) {\n",
        "        h_M[i] = rand() / (float)RAND_MAX;\n",
        "    }\n",
        "    for (int i = 0; i < M * K; i++) {\n",
        "        h_N[i] = rand() / (float)RAND_MAX;\n",
        "    }\n",
        "\n",
        "    //Allocate mem for device\n",
        "    float *d_M, *d_N, *d_P;\n",
        "    cudaMalloc((void**)&d_N, sizeof(float) * M * K);\n",
        "    cudaMalloc((void**)&d_M, sizeof(float)* M * N);\n",
        "    cudaMalloc((void**)&d_P, sizeof(float) * N * K);\n",
        "    cudaMemcpy(d_M, h_M, sizeof(float) * M * N, cudaMemcpyHostToDevice);\n",
        "    cudaMemcpy(d_N, h_N, sizeof(float) * M * K, cudaMemcpyHostToDevice);\n",
        "        \n",
        "    //Set up config for parallelization\n",
        "    dim3 dimGrid(ceil(K / (float)TITLE_SIZE), ceil(N / (float)TITLE_SIZE), 1);\n",
        "    dim3 dimBlock(TITLE_SIZE, TITLE_SIZE, 1);\n",
        "\n",
        "    float elapsed_time;\n",
        "    cudaEvent_t start, stop;\n",
        "    cudaEventCreate(&start);\n",
        "    cudaEventCreate(&stop);\n",
        "    cudaEventRecord(start);\n",
        "\n",
        "    //Invoke Kernel\n",
        "    MatrixMultTiled<<<dimGrid, dimBlock>>>(d_M, d_N, d_P, N, M, K);\n",
        "\n",
        "    cudaEventRecord(stop);\n",
        "    cudaEventSynchronize(stop);\n",
        "    cudaEventElapsedTime(&elapsed_time, start, stop);\n",
        "    cudaEventDestroy(start);\n",
        "    cudaEventDestroy(stop);\n",
        "\n",
        "    cudaMemcpy(h_P, d_P, sizeof(float)*N*K, cudaMemcpyDeviceToHost);\n",
        "\n",
        "    printf(\"Kernel execution time: %f ms\\n\", elapsed_time);\n",
        "\n",
        "    //Host mem free\n",
        "    free(h_M);\n",
        "    free(h_N);\n",
        "    free(h_P);\n",
        "\n",
        "    //Device mem free\n",
        "    cudaFree(d_M);\n",
        "    cudaFree(d_N);\n",
        "    cudaFree(d_P);\n",
        "\n",
        "    return 0;\n",
        "}\n"
      ],
      "metadata": {
        "colab": {
          "base_uri": "https://localhost:8080/"
        },
        "id": "eZwyzMwRoAlG",
        "outputId": "544f9efb-136c-4df4-d536-17c7a0fdb6f6"
      },
      "execution_count": 19,
      "outputs": [
        {
          "output_type": "stream",
          "name": "stdout",
          "text": [
            "ptxas error   : Entry function '_Z15MatrixMultTiledPfS_S_iii' uses too much shared data (0x20000 bytes, 0xc000 max)\n",
            "\n"
          ]
        }
      ]
    }
  ]
}